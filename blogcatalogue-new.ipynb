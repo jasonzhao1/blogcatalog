{
 "cells": [
  {
   "cell_type": "code",
   "execution_count": 39,
   "metadata": {
    "collapsed": true
   },
   "outputs": [
    {
     "name": "stdout",
     "output_type": "stream",
     "text": [
      "Requirement already satisfied: torch==2.0.1 in ./venv/bin/python/lib/python3.10/site-packages (2.0.1)\r\n",
      "Requirement already satisfied: typing-extensions in ./venv/bin/python/lib/python3.10/site-packages (from torch==2.0.1) (4.7.1)\r\n",
      "Requirement already satisfied: sympy in ./venv/bin/python/lib/python3.10/site-packages (from torch==2.0.1) (1.12)\r\n",
      "Requirement already satisfied: networkx in ./venv/bin/python/lib/python3.10/site-packages (from torch==2.0.1) (3.1)\r\n",
      "Requirement already satisfied: filelock in ./venv/bin/python/lib/python3.10/site-packages (from torch==2.0.1) (3.12.2)\r\n",
      "Requirement already satisfied: jinja2 in ./venv/bin/python/lib/python3.10/site-packages (from torch==2.0.1) (3.1.2)\r\n",
      "Requirement already satisfied: MarkupSafe>=2.0 in ./venv/bin/python/lib/python3.10/site-packages (from jinja2->torch==2.0.1) (2.1.3)\r\n",
      "Requirement already satisfied: mpmath>=0.19 in ./venv/bin/python/lib/python3.10/site-packages (from sympy->torch==2.0.1) (1.3.0)\r\n",
      "\u001B[33mWARNING: You are using pip version 21.1.2; however, version 23.1.2 is available.\r\n",
      "You should consider upgrading via the '/Users/jasonzhao/PycharmProjects/blogcatalog/venv/bin/python/bin/python -m pip install --upgrade pip' command.\u001B[0m\r\n",
      "Requirement already satisfied: numpy==1.24.3 in ./venv/bin/python/lib/python3.10/site-packages (1.24.3)\r\n",
      "\u001B[33mWARNING: You are using pip version 21.1.2; however, version 23.1.2 is available.\r\n",
      "You should consider upgrading via the '/Users/jasonzhao/PycharmProjects/blogcatalog/venv/bin/python/bin/python -m pip install --upgrade pip' command.\u001B[0m\r\n",
      "Requirement already satisfied: scikit-learn==1.3.0 in ./venv/bin/python/lib/python3.10/site-packages (1.3.0)\r\n",
      "Requirement already satisfied: threadpoolctl>=2.0.0 in ./venv/bin/python/lib/python3.10/site-packages (from scikit-learn==1.3.0) (3.1.0)\r\n",
      "Requirement already satisfied: numpy>=1.17.3 in ./venv/bin/python/lib/python3.10/site-packages (from scikit-learn==1.3.0) (1.24.3)\r\n",
      "Requirement already satisfied: joblib>=1.1.1 in ./venv/bin/python/lib/python3.10/site-packages (from scikit-learn==1.3.0) (1.3.1)\r\n",
      "Requirement already satisfied: scipy>=1.5.0 in ./venv/bin/python/lib/python3.10/site-packages (from scikit-learn==1.3.0) (1.11.1)\r\n",
      "\u001B[33mWARNING: You are using pip version 21.1.2; however, version 23.1.2 is available.\r\n",
      "You should consider upgrading via the '/Users/jasonzhao/PycharmProjects/blogcatalog/venv/bin/python/bin/python -m pip install --upgrade pip' command.\u001B[0m\r\n",
      "Requirement already satisfied: torch-geometric==2.3.1 in ./venv/bin/python/lib/python3.10/site-packages (2.3.1)\r\n",
      "Requirement already satisfied: requests in ./venv/bin/python/lib/python3.10/site-packages (from torch-geometric==2.3.1) (2.31.0)\r\n",
      "Requirement already satisfied: tqdm in ./venv/bin/python/lib/python3.10/site-packages (from torch-geometric==2.3.1) (4.65.0)\r\n",
      "Requirement already satisfied: psutil>=5.8.0 in ./venv/bin/python/lib/python3.10/site-packages (from torch-geometric==2.3.1) (5.9.5)\r\n",
      "Requirement already satisfied: scipy in ./venv/bin/python/lib/python3.10/site-packages (from torch-geometric==2.3.1) (1.11.1)\r\n",
      "Requirement already satisfied: pyparsing in ./venv/bin/python/lib/python3.10/site-packages (from torch-geometric==2.3.1) (3.0.9)\r\n",
      "Requirement already satisfied: numpy in ./venv/bin/python/lib/python3.10/site-packages (from torch-geometric==2.3.1) (1.24.3)\r\n",
      "Requirement already satisfied: jinja2 in ./venv/bin/python/lib/python3.10/site-packages (from torch-geometric==2.3.1) (3.1.2)\r\n",
      "Requirement already satisfied: scikit-learn in ./venv/bin/python/lib/python3.10/site-packages (from torch-geometric==2.3.1) (1.3.0)\r\n",
      "Requirement already satisfied: MarkupSafe>=2.0 in ./venv/bin/python/lib/python3.10/site-packages (from jinja2->torch-geometric==2.3.1) (2.1.3)\r\n",
      "Requirement already satisfied: charset-normalizer<4,>=2 in ./venv/bin/python/lib/python3.10/site-packages (from requests->torch-geometric==2.3.1) (3.2.0)\r\n",
      "Requirement already satisfied: idna<4,>=2.5 in ./venv/bin/python/lib/python3.10/site-packages (from requests->torch-geometric==2.3.1) (3.4)\r\n",
      "Requirement already satisfied: certifi>=2017.4.17 in ./venv/bin/python/lib/python3.10/site-packages (from requests->torch-geometric==2.3.1) (2023.5.7)\r\n",
      "Requirement already satisfied: urllib3<3,>=1.21.1 in ./venv/bin/python/lib/python3.10/site-packages (from requests->torch-geometric==2.3.1) (2.0.3)\r\n",
      "Requirement already satisfied: joblib>=1.1.1 in ./venv/bin/python/lib/python3.10/site-packages (from scikit-learn->torch-geometric==2.3.1) (1.3.1)\r\n",
      "Requirement already satisfied: threadpoolctl>=2.0.0 in ./venv/bin/python/lib/python3.10/site-packages (from scikit-learn->torch-geometric==2.3.1) (3.1.0)\r\n",
      "\u001B[33mWARNING: You are using pip version 21.1.2; however, version 23.1.2 is available.\r\n",
      "You should consider upgrading via the '/Users/jasonzhao/PycharmProjects/blogcatalog/venv/bin/python/bin/python -m pip install --upgrade pip' command.\u001B[0m\r\n"
     ]
    }
   ],
   "source": [
    "# Pip Install If you do not have these packages\n",
    "# Python version = 3.10\n",
    "!pip install torch==2.0.1\n",
    "!pip install numpy==1.24.3\n",
    "!pip install scikit-learn==1.3.0\n",
    "!pip install torch-geometric==2.3.1"
   ]
  },
  {
   "cell_type": "code",
   "execution_count": 40,
   "outputs": [],
   "source": [
    "import torch\n",
    "import numpy as np\n",
    "\n",
    "# Load graph structure\n",
    "graph_data = np.loadtxt('blogcatalogue-network.txt', skiprows=1, dtype=np.int64)\n",
    "edge_index = torch.tensor(graph_data, dtype=torch.long).t().contiguous()\n",
    "\n",
    "# Load node labels\n",
    "labels_data = np.loadtxt('blogcatalogue-group.txt', skiprows=1, dtype=np.int64)\n",
    "labels = torch.zeros((10312, 39))  # Assuming the number of nodes and classes from your provided data\n",
    "for node_id, class_id in labels_data:\n",
    "    labels[node_id, class_id] = 1  # It's a multi-label problem"
   ],
   "metadata": {
    "collapsed": false,
    "pycharm": {
     "name": "#%%\n"
    }
   }
  },
  {
   "cell_type": "code",
   "execution_count": 41,
   "outputs": [],
   "source": [
    "import torch.nn.functional as F\n",
    "from torch_geometric.nn import GCNConv\n",
    "\n",
    "class GNN(torch.nn.Module):\n",
    "    def __init__(self):\n",
    "        super(GNN, self).__init__()\n",
    "        self.conv1 = GCNConv(10312, 128)  # 10312 is the number of nodes (also the input dimension), 128 is an arbitrary hidden dimension\n",
    "        self.conv2 = GCNConv(128, 128)\n",
    "        self.conv3 = GCNConv(128, 128)\n",
    "        self.out = torch.nn.Linear(128, 39)  # 39 is the number of classes\n",
    "\n",
    "    def forward(self, data):\n",
    "        x, edge_index = data.x, data.edge_index\n",
    "\n",
    "        x = self.conv1(x, edge_index)\n",
    "        x = F.relu(x)\n",
    "        x = F.dropout(x, training=self.training)\n",
    "\n",
    "        x = self.conv2(x, edge_index)\n",
    "        x = F.relu(x)\n",
    "\n",
    "        x = self.conv3(x, edge_index)\n",
    "        x = F.relu(x)\n",
    "\n",
    "        x = self.out(x)\n",
    "        return torch.sigmoid(x)"
   ],
   "metadata": {
    "collapsed": false,
    "pycharm": {
     "name": "#%%\n"
    }
   }
  },
  {
   "cell_type": "code",
   "execution_count": null,
   "outputs": [
    {
     "name": "stdout",
     "output_type": "stream",
     "text": [
      "cpu\n",
      "50 epochs has passed\n",
      "100 epochs has passed\n",
      "150 epochs has passed\n",
      "200 epochs has passed\n"
     ]
    }
   ],
   "source": [
    "from torch_geometric.data import Data\n",
    "from torch.optim import Adam\n",
    "from sklearn.metrics import f1_score\n",
    "from sklearn.model_selection import train_test_split\n",
    "\n",
    "device = torch.device('cuda' if torch.cuda.is_available() else 'cpu')\n",
    "print(device)\n",
    "\n",
    "# Preparing the data\n",
    "x = torch.eye(10312, dtype=torch.float)  # One-hot encoded input features\n",
    "data = Data(x=x, edge_index=edge_index, y=labels)\n",
    "\n",
    "# Split nodes for training and testing\n",
    "train_mask, test_mask = train_test_split(np.arange(10312), test_size=0.5, random_state=42)\n",
    "data.train_mask = torch.tensor(train_mask, dtype=torch.long)\n",
    "data.test_mask = torch.tensor(test_mask, dtype=torch.long)\n",
    "data = data.to(device)\n",
    "\n",
    "# Setting up the model and optimizer\n",
    "model = GNN().to(device)\n",
    "optimizer = Adam(model.parameters(), lr=0.01)\n",
    "\n",
    "# Training the model\n",
    "model.train()\n",
    "for epoch in range(400):  # For simplicity, we just loop 200 epochs\n",
    "    optimizer.zero_grad()\n",
    "    out = model(data)\n",
    "    loss = F.binary_cross_entropy(out[data.train_mask], data.y[data.train_mask])\n",
    "    loss.backward()\n",
    "    optimizer.step()\n",
    "    if epoch % 50 == 0 and epoch > 0:\n",
    "        print(f'{epoch} epochs has passed')\n",
    "\n",
    "# Testing the model\n",
    "model.eval()\n",
    "with torch.no_grad():\n",
    "    predictions = model(data)\n",
    "    pred = predictions[data.test_mask].detach().cpu().numpy()\n",
    "    true = data.y[data.test_mask].detach().cpu().numpy()\n",
    "\n",
    "\n",
    "# Use the same prediction and true tensors as before\n",
    "f1_scores = f1_score(true, pred > 0.5, average=None, zero_division=1)\n",
    "\n",
    "print(f\"F1 Score for each class: {f1_scores}\")"
   ],
   "metadata": {
    "collapsed": false,
    "pycharm": {
     "name": "#%%\n",
     "is_executing": true
    }
   }
  },
  {
   "cell_type": "code",
   "execution_count": null,
   "outputs": [],
   "source": [
    "import matplotlib.pyplot as plt\n",
    "\n",
    "# Assume f1_scores is the array of F1 scores calculated as before\n",
    "classes = range(len(f1_scores))\n",
    "\n",
    "plt.figure(figsize=(12, 6))  # Set the figure size\n",
    "plt.bar(classes, f1_scores)  # Create a bar chart\n",
    "plt.xlabel('Class')  # Set x-axis label\n",
    "plt.ylabel('F1 Score')  # Set y-axis label\n",
    "plt.title('F1 Score for Each Class')  # Set plot title\n",
    "plt.xticks(classes)  # Set x-tick labels to be the classes\n",
    "plt.ylim([0, 1])  # Optional: you might want to set y limits to [0, 1] as F1 Score is between 0 and 1\n",
    "plt.grid(True)  # Optional: add a grid for better visualization\n",
    "plt.show()"
   ],
   "metadata": {
    "collapsed": false,
    "pycharm": {
     "name": "#%%\n"
    }
   }
  },
  {
   "cell_type": "code",
   "execution_count": null,
   "outputs": [],
   "source": [],
   "metadata": {
    "collapsed": false,
    "pycharm": {
     "name": "#%%\n"
    }
   }
  }
 ],
 "metadata": {
  "kernelspec": {
   "display_name": "Python 3",
   "language": "python",
   "name": "python3"
  },
  "language_info": {
   "codemirror_mode": {
    "name": "ipython",
    "version": 2
   },
   "file_extension": ".py",
   "mimetype": "text/x-python",
   "name": "python",
   "nbconvert_exporter": "python",
   "pygments_lexer": "ipython2",
   "version": "2.7.6"
  }
 },
 "nbformat": 4,
 "nbformat_minor": 0
}