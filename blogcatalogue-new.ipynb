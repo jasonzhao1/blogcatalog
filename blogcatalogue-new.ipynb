{
 "cells": [
  {
   "cell_type": "code",
   "execution_count": 11,
   "metadata": {
    "collapsed": true,
    "ExecuteTime": {
     "end_time": "2023-07-11T00:24:59.352518Z",
     "start_time": "2023-07-11T00:24:52.326923300Z"
    }
   },
   "outputs": [
    {
     "name": "stdout",
     "output_type": "stream",
     "text": [
      "Requirement already satisfied: torch==2.0.1 in c:\\users\\jason\\pycharmprojects\\blogcatalog\\venv\\lib\\site-packages (2.0.1+cu117)\n",
      "Requirement already satisfied: filelock in c:\\users\\jason\\pycharmprojects\\blogcatalog\\venv\\lib\\site-packages (from torch==2.0.1) (3.12.2)\n",
      "Requirement already satisfied: sympy in c:\\users\\jason\\pycharmprojects\\blogcatalog\\venv\\lib\\site-packages (from torch==2.0.1) (1.12)\n",
      "Requirement already satisfied: typing-extensions in c:\\users\\jason\\pycharmprojects\\blogcatalog\\venv\\lib\\site-packages (from torch==2.0.1) (4.7.1)\n",
      "Requirement already satisfied: jinja2 in c:\\users\\jason\\pycharmprojects\\blogcatalog\\venv\\lib\\site-packages (from torch==2.0.1) (3.1.2)\n",
      "Requirement already satisfied: networkx in c:\\users\\jason\\pycharmprojects\\blogcatalog\\venv\\lib\\site-packages (from torch==2.0.1) (3.1)\n",
      "Requirement already satisfied: MarkupSafe>=2.0 in c:\\users\\jason\\pycharmprojects\\blogcatalog\\venv\\lib\\site-packages (from jinja2->torch==2.0.1) (2.1.3)\n",
      "Requirement already satisfied: mpmath>=0.19 in c:\\users\\jason\\pycharmprojects\\blogcatalog\\venv\\lib\\site-packages (from sympy->torch==2.0.1) (1.3.0)\n"
     ]
    },
    {
     "name": "stderr",
     "output_type": "stream",
     "text": [
      "\n",
      "[notice] A new release of pip available: 22.3.1 -> 23.1.2\n",
      "[notice] To update, run: python.exe -m pip install --upgrade pip\n"
     ]
    },
    {
     "name": "stdout",
     "output_type": "stream",
     "text": [
      "Requirement already satisfied: numpy==1.24.3 in c:\\users\\jason\\pycharmprojects\\blogcatalog\\venv\\lib\\site-packages (1.24.3)\n"
     ]
    },
    {
     "name": "stderr",
     "output_type": "stream",
     "text": [
      "\n",
      "[notice] A new release of pip available: 22.3.1 -> 23.1.2\n",
      "[notice] To update, run: python.exe -m pip install --upgrade pip\n"
     ]
    },
    {
     "name": "stdout",
     "output_type": "stream",
     "text": [
      "Requirement already satisfied: scikit-learn==1.3.0 in c:\\users\\jason\\pycharmprojects\\blogcatalog\\venv\\lib\\site-packages (1.3.0)\n",
      "Requirement already satisfied: scipy>=1.5.0 in c:\\users\\jason\\pycharmprojects\\blogcatalog\\venv\\lib\\site-packages (from scikit-learn==1.3.0) (1.11.1)\n",
      "Requirement already satisfied: numpy>=1.17.3 in c:\\users\\jason\\pycharmprojects\\blogcatalog\\venv\\lib\\site-packages (from scikit-learn==1.3.0) (1.24.3)\n",
      "Requirement already satisfied: joblib>=1.1.1 in c:\\users\\jason\\pycharmprojects\\blogcatalog\\venv\\lib\\site-packages (from scikit-learn==1.3.0) (1.3.1)\n",
      "Requirement already satisfied: threadpoolctl>=2.0.0 in c:\\users\\jason\\pycharmprojects\\blogcatalog\\venv\\lib\\site-packages (from scikit-learn==1.3.0) (3.1.0)\n"
     ]
    },
    {
     "name": "stderr",
     "output_type": "stream",
     "text": [
      "\n",
      "[notice] A new release of pip available: 22.3.1 -> 23.1.2\n",
      "[notice] To update, run: python.exe -m pip install --upgrade pip\n"
     ]
    },
    {
     "name": "stdout",
     "output_type": "stream",
     "text": [
      "Requirement already satisfied: torch-geometric==2.3.1 in c:\\users\\jason\\pycharmprojects\\blogcatalog\\venv\\lib\\site-packages (2.3.1)\n",
      "Requirement already satisfied: numpy in c:\\users\\jason\\pycharmprojects\\blogcatalog\\venv\\lib\\site-packages (from torch-geometric==2.3.1) (1.24.3)\n",
      "Requirement already satisfied: tqdm in c:\\users\\jason\\pycharmprojects\\blogcatalog\\venv\\lib\\site-packages (from torch-geometric==2.3.1) (4.65.0)\n",
      "Requirement already satisfied: psutil>=5.8.0 in c:\\users\\jason\\pycharmprojects\\blogcatalog\\venv\\lib\\site-packages (from torch-geometric==2.3.1) (5.9.5)\n",
      "Requirement already satisfied: scikit-learn in c:\\users\\jason\\pycharmprojects\\blogcatalog\\venv\\lib\\site-packages (from torch-geometric==2.3.1) (1.3.0)\n",
      "Requirement already satisfied: requests in c:\\users\\jason\\pycharmprojects\\blogcatalog\\venv\\lib\\site-packages (from torch-geometric==2.3.1) (2.31.0)\n",
      "Requirement already satisfied: jinja2 in c:\\users\\jason\\pycharmprojects\\blogcatalog\\venv\\lib\\site-packages (from torch-geometric==2.3.1) (3.1.2)\n",
      "Requirement already satisfied: pyparsing in c:\\users\\jason\\pycharmprojects\\blogcatalog\\venv\\lib\\site-packages (from torch-geometric==2.3.1) (3.0.9)\n",
      "Requirement already satisfied: scipy in c:\\users\\jason\\pycharmprojects\\blogcatalog\\venv\\lib\\site-packages (from torch-geometric==2.3.1) (1.11.1)\n",
      "Requirement already satisfied: MarkupSafe>=2.0 in c:\\users\\jason\\pycharmprojects\\blogcatalog\\venv\\lib\\site-packages (from jinja2->torch-geometric==2.3.1) (2.1.3)\n",
      "Requirement already satisfied: idna<4,>=2.5 in c:\\users\\jason\\pycharmprojects\\blogcatalog\\venv\\lib\\site-packages (from requests->torch-geometric==2.3.1) (3.4)\n",
      "Requirement already satisfied: certifi>=2017.4.17 in c:\\users\\jason\\pycharmprojects\\blogcatalog\\venv\\lib\\site-packages (from requests->torch-geometric==2.3.1) (2023.5.7)\n",
      "Requirement already satisfied: urllib3<3,>=1.21.1 in c:\\users\\jason\\pycharmprojects\\blogcatalog\\venv\\lib\\site-packages (from requests->torch-geometric==2.3.1) (2.0.3)\n",
      "Requirement already satisfied: charset-normalizer<4,>=2 in c:\\users\\jason\\pycharmprojects\\blogcatalog\\venv\\lib\\site-packages (from requests->torch-geometric==2.3.1) (3.2.0)\n",
      "Requirement already satisfied: threadpoolctl>=2.0.0 in c:\\users\\jason\\pycharmprojects\\blogcatalog\\venv\\lib\\site-packages (from scikit-learn->torch-geometric==2.3.1) (3.1.0)\n",
      "Requirement already satisfied: joblib>=1.1.1 in c:\\users\\jason\\pycharmprojects\\blogcatalog\\venv\\lib\\site-packages (from scikit-learn->torch-geometric==2.3.1) (1.3.1)\n",
      "Requirement already satisfied: colorama in c:\\users\\jason\\pycharmprojects\\blogcatalog\\venv\\lib\\site-packages (from tqdm->torch-geometric==2.3.1) (0.4.6)\n"
     ]
    },
    {
     "name": "stderr",
     "output_type": "stream",
     "text": [
      "\n",
      "[notice] A new release of pip available: 22.3.1 -> 23.1.2\n",
      "[notice] To update, run: python.exe -m pip install --upgrade pip\n"
     ]
    },
    {
     "name": "stdout",
     "output_type": "stream",
     "text": [
      "Collecting scikit-multilearn\n",
      "  Downloading scikit_multilearn-0.2.0-py3-none-any.whl (89 kB)\n",
      "     ---------------------------------------- 89.4/89.4 kB 4.9 MB/s eta 0:00:00\n",
      "Installing collected packages: scikit-multilearn\n",
      "Successfully installed scikit-multilearn-0.2.0\n"
     ]
    },
    {
     "name": "stderr",
     "output_type": "stream",
     "text": [
      "\n",
      "[notice] A new release of pip available: 22.3.1 -> 23.1.2\n",
      "[notice] To update, run: python.exe -m pip install --upgrade pip\n"
     ]
    }
   ],
   "source": [
    "# Pip Install If you do not have these packages\n",
    "# Python version = 3.10\n",
    "!pip install torch==2.0.1\n",
    "!pip install numpy==1.24.3\n",
    "!pip install scikit-learn==1.3.0\n",
    "!pip install torch-geometric==2.3.1\n",
    "!pip install scikit-multilearn"
   ]
  },
  {
   "cell_type": "code",
   "execution_count": 3,
   "outputs": [],
   "source": [
    "import torch\n",
    "import numpy as np\n",
    "\n",
    "# Load graph structure\n",
    "graph_data = np.loadtxt('blogcatalogue-network.txt', skiprows=1, dtype=np.int64)\n",
    "edge_index = torch.tensor(graph_data, dtype=torch.long).t().contiguous()\n",
    "\n",
    "# Load node labels\n",
    "labels_data = np.loadtxt('blogcatalogue-group.txt', skiprows=1, dtype=np.int64)\n",
    "labels = torch.zeros((10312, 39))  # Assuming the number of nodes and classes from your provided data\n",
    "for node_id, class_id in labels_data:\n",
    "    labels[node_id, class_id] = 1  # It's a multi-label problem"
   ],
   "metadata": {
    "collapsed": false,
    "pycharm": {
     "name": "#%%\n"
    },
    "ExecuteTime": {
     "end_time": "2023-07-10T23:57:07.170983400Z",
     "start_time": "2023-07-10T23:57:03.712902700Z"
    }
   }
  },
  {
   "cell_type": "code",
   "execution_count": 9,
   "outputs": [],
   "source": [
    "import torch.nn.functional as F\n",
    "from torch_geometric.nn import GCNConv\n",
    "\n",
    "class GNN(torch.nn.Module):\n",
    "    def __init__(self):\n",
    "        super(GNN, self).__init__()\n",
    "        self.conv1 = GCNConv(10312, 512)  # 10312 is the number of nodes (also the input dimension), 128 is an arbitrary hidden dimension\n",
    "        self.conv2 = GCNConv(512, 512)\n",
    "        self.conv3 = GCNConv(512, 256)\n",
    "        self.out = torch.nn.Linear(256, 39)  # 39 is the number of classes\n",
    "\n",
    "    def forward(self, data):\n",
    "        x, edge_index = data.x, data.edge_index\n",
    "\n",
    "        x = self.conv1(x, edge_index)\n",
    "        x = F.relu(x)\n",
    "        x = F.dropout(x, training=self.training)\n",
    "\n",
    "        x = self.conv2(x, edge_index)\n",
    "        x = F.relu(x)\n",
    "\n",
    "        x = self.conv3(x, edge_index)\n",
    "        x = F.relu(x)\n",
    "\n",
    "        x = self.out(x)\n",
    "        return torch.sigmoid(x)"
   ],
   "metadata": {
    "collapsed": false,
    "pycharm": {
     "name": "#%%\n"
    },
    "ExecuteTime": {
     "end_time": "2023-07-11T00:19:18.952382Z",
     "start_time": "2023-07-11T00:19:18.941382100Z"
    }
   }
  },
  {
   "cell_type": "code",
   "execution_count": 29,
   "outputs": [],
   "source": [
    "from skmultilearn.model_selection import iterative_train_test_split\n",
    "# Node IDs, reshaped to 2D array\n",
    "X = np.arange(10312)[:, None]  # Assuming there are 10312 nodes numbered from 0 to 10311\n",
    "\n",
    "# Class labels in a multi-label binary format\n",
    "y = labels.detach().cpu().numpy()  # Convert labels tensor to a NumPy array\n",
    "\n",
    "X_train, y_train, X_test, y_test = iterative_train_test_split(X, y, test_size=0.5)\n",
    "\n",
    "# Create masks based on train and test split indices\n",
    "train_mask = np.zeros(10312, dtype=bool)\n",
    "train_mask[X_train.flatten()] = True\n",
    "\n",
    "\n",
    "test_mask = np.zeros(10312, dtype=bool)\n",
    "test_mask[X_test.flatten()] = True\n"
   ],
   "metadata": {
    "collapsed": false,
    "ExecuteTime": {
     "end_time": "2023-07-11T00:44:13.705410500Z",
     "start_time": "2023-07-11T00:44:13.132410Z"
    }
   }
  },
  {
   "cell_type": "code",
   "execution_count": 31,
   "outputs": [
    {
     "name": "stdout",
     "output_type": "stream",
     "text": [
      "cuda\n",
      "50 epochs has passed\n",
      "100 epochs has passed\n",
      "150 epochs has passed\n",
      "200 epochs has passed\n",
      "250 epochs has passed\n",
      "300 epochs has passed\n",
      "350 epochs has passed\n",
      "400 epochs has passed\n",
      "450 epochs has passed\n",
      "500 epochs has passed\n",
      "550 epochs has passed\n",
      "600 epochs has passed\n",
      "650 epochs has passed\n",
      "700 epochs has passed\n",
      "750 epochs has passed\n",
      "F1 Score for each class: [1.         0.15662651 0.23529412 1.         0.04705882 0.1084991\n",
      " 0.59285714 0.1314741  0.08839779 0.11072664 0.40944882 0.075\n",
      " 0.13880126 0.192      0.02739726 0.01777778 0.13745704 0.01104972\n",
      " 0.05604203 0.22222222 0.328125   0.06603774 0.15873016 0.3037594\n",
      " 0.015625   0.03508772 0.08695652 0.26923077 0.09032258 0.01793722\n",
      " 1.         0.04347826 0.13793103 0.05714286 0.02702703 1.\n",
      " 0.08163265 0.03030303 1.        ]\n"
     ]
    }
   ],
   "source": [
    "from torch_geometric.data import Data\n",
    "from torch.optim import Adam\n",
    "from sklearn.metrics import f1_score\n",
    "from sklearn.model_selection import train_test_split\n",
    "\n",
    "device = torch.device('cuda' if torch.cuda.is_available() else 'cpu')\n",
    "print(device)\n",
    "\n",
    "# Preparing the data\n",
    "x = torch.eye(10312, dtype=torch.float)  # One-hot encoded input features\n",
    "data = Data(x=x, edge_index=edge_index, y=labels)\n",
    "\n",
    "# Split nodes for training and testing\n",
    "# train_mask, test_mask = train_test_split(np.arange(10312), test_size=0.5, random_state=42)\n",
    "# data.train_mask = torch.tensor(train_mask, dtype=torch.long)\n",
    "# data.test_mask = torch.tensor(test_mask, dtype=torch.long)\n",
    "# data = data.to(device)\n",
    "\n",
    "from skmultilearn.model_selection import iterative_train_test_split\n",
    "\n",
    "\n",
    "data.train_mask = torch.from_numpy(train_mask)\n",
    "data.test_mask = torch.from_numpy(test_mask)\n",
    "data = data.to(device)\n",
    "\n",
    "# Setting up the model and optimizer\n",
    "model = GNN().to(device)\n",
    "optimizer = Adam(model.parameters(), lr=0.008)\n",
    "\n",
    "\n",
    "class_counts = y.sum(axis=0)  # count the number of positive examples for each class\n",
    "class_weights = 1. / class_counts  # compute the inverse frequency\n",
    "class_weights = class_weights / class_weights.sum()  # normalize the weights so they sum to 1\n",
    "\n",
    "# Training the model\n",
    "model.train()\n",
    "for epoch in range(800):  # For simplicity, we just loop 200 epochs\n",
    "    optimizer.zero_grad()\n",
    "    out = model(data)\n",
    "    loss = F.binary_cross_entropy(out[data.train_mask], data.y[data.train_mask], weight=torch.tensor(class_weights, device=device))\n",
    "    loss.backward()\n",
    "    optimizer.step()\n",
    "    if epoch % 50 == 0 and epoch > 0:\n",
    "        print(f'{epoch} epochs has passed')\n",
    "\n",
    "# Testing the model\n",
    "model.eval()\n",
    "with torch.no_grad():\n",
    "    predictions = model(data)\n",
    "    pred = predictions[data.test_mask].detach().cpu().numpy()\n",
    "    true = data.y[data.test_mask].detach().cpu().numpy()\n",
    "\n",
    "\n",
    "# Use the same prediction and true tensors as before\n",
    "f1_scores = f1_score(true, pred > 0.5, average=None, zero_division=1)\n",
    "\n",
    "print(f\"F1 Score for each class: {f1_scores}\")"
   ],
   "metadata": {
    "collapsed": false,
    "pycharm": {
     "name": "#%%\n",
     "is_executing": true
    },
    "ExecuteTime": {
     "end_time": "2023-07-11T00:47:22.039028500Z",
     "start_time": "2023-07-11T00:46:20.419136900Z"
    }
   }
  },
  {
   "cell_type": "code",
   "execution_count": 28,
   "outputs": [
    {
     "data": {
      "text/plain": "<Figure size 1200x600 with 1 Axes>",
      "image/png": "[encoded data removed]"
     },
     "metadata": {},
     "output_type": "display_data"
    }
   ],
   "source": [
    "import matplotlib.pyplot as plt\n",
    "\n",
    "# Assume f1_scores is the array of F1 scores calculated as before\n",
    "classes = range(len(f1_scores))\n",
    "\n",
    "plt.figure(figsize=(12, 6))  # Set the figure size\n",
    "plt.bar(classes, f1_scores)  # Create a bar chart\n",
    "plt.xlabel('Class')  # Set x-axis label\n",
    "plt.ylabel('F1 Score')  # Set y-axis label\n",
    "plt.title('F1 Score for Each Class')  # Set plot title\n",
    "plt.xticks(classes)  # Set x-tick labels to be the classes\n",
    "plt.ylim([0, 1])  # Optional: you might want to set y limits to [0, 1] as F1 Score is between 0 and 1\n",
    "plt.grid(True)  # Optional: add a grid for better visualization\n",
    "plt.show()"
   ],
   "metadata": {
    "collapsed": false,
    "pycharm": {
     "name": "#%%\n"
    },
    "ExecuteTime": {
     "end_time": "2023-07-11T00:40:02.019983800Z",
     "start_time": "2023-07-11T00:40:01.759427800Z"
    }
   }
  },
  {
   "cell_type": "code",
   "execution_count": 7,
   "outputs": [
    {
     "name": "stdout",
     "output_type": "stream",
     "text": [
      "True\n"
     ]
    }
   ],
   "source": [
    "print(torch.cuda.is_available())"
   ],
   "metadata": {
    "collapsed": false,
    "pycharm": {
     "name": "#%%\n"
    },
    "ExecuteTime": {
     "end_time": "2023-07-10T23:57:22.913479500Z",
     "start_time": "2023-07-10T23:57:22.901480400Z"
    }
   }
  },
  {
   "cell_type": "code",
   "execution_count": 7,
   "outputs": [],
   "source": [],
   "metadata": {
    "collapsed": false,
    "ExecuteTime": {
     "end_time": "2023-07-10T23:57:23.087709800Z",
     "start_time": "2023-07-10T23:57:22.914483500Z"
    }
   }
  }
 ],
 "metadata": {
  "kernelspec": {
   "display_name": "Python 3",
   "language": "python",
   "name": "python3"
  },
  "language_info": {
   "codemirror_mode": {
    "name": "ipython",
    "version": 2
   },
   "file_extension": ".py",
   "mimetype": "text/x-python",
   "name": "python",
   "nbconvert_exporter": "python",
   "pygments_lexer": "ipython2",
   "version": "2.7.6"
  }
 },
 "nbformat": 4,
 "nbformat_minor": 0
}
